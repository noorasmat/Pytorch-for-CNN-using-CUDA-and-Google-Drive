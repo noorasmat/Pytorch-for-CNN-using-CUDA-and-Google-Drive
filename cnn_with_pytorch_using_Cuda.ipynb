{
  "nbformat": 4,
  "nbformat_minor": 0,
  "metadata": {
    "kernelspec": {
      "name": "python3",
      "display_name": "Python 3"
    },
    "language_info": {
      "name": "python",
      "version": "3.6.6",
      "mimetype": "text/x-python",
      "codemirror_mode": {
        "name": "ipython",
        "version": 3
      },
      "pygments_lexer": "ipython3",
      "nbconvert_exporter": "python",
      "file_extension": ".py"
    },
    "colab": {
      "name": "cnn-with-pytorch-using-Cuda.ipynb",
      "version": "0.3.2",
      "provenance": [],
      "collapsed_sections": [],
      "toc_visible": true,
      "include_colab_link": true
    },
    "accelerator": "GPU"
  },
  "cells": [
    {
      "cell_type": "markdown",
      "metadata": {
        "id": "view-in-github",
        "colab_type": "text"
      },
      "source": [
        "<a href=\"https://colab.research.google.com/github/noorasmat/Pytorch-for-CNN-using-CUDA-and-Google-Drive/blob/master/cnn_with_pytorch_using_Cuda.ipynb\" target=\"_parent\"><img src=\"https://colab.research.google.com/assets/colab-badge.svg\" alt=\"Open In Colab\"/></a>"
      ]
    },
    {
      "cell_type": "markdown",
      "metadata": {
        "_uuid": "cc5a309ffc6122a773ecf24f587472530e1f0ce4",
        "id": "m4rYn0nqO9a1",
        "colab_type": "text"
      },
      "source": [
        "# CNN with PyTorch and Cuda"
      ]
    },
    {
      "cell_type": "markdown",
      "metadata": {
        "_uuid": "6e93ff952ed0c54ee9064c7909842a0539be39c1",
        "id": "lxkmNAIFO9a5",
        "colab_type": "text"
      },
      "source": [
        "1. Load and normalizing the MNIST datasets\n",
        "2. Define a Convolution Neural Network\n",
        "3. Define a loss function\n",
        "4. Train the network on the training data\n",
        "5. Evaluate the model\n",
        "6. Prediction and submition"
      ]
    },
    {
      "cell_type": "code",
      "metadata": {
        "trusted": true,
        "_uuid": "21056eac4b2cd5af9c74d77591570fdcb84a300f",
        "id": "7d3C9TjoO9a9",
        "colab_type": "code",
        "colab": {}
      },
      "source": [
        "# data loading and presentation\n",
        "import pandas as pd\n",
        "import numpy as np\n",
        "import matplotlib.pyplot as plt\n",
        "%matplotlib inline\n",
        "\n",
        "# PyTorch\n",
        "import torch\n",
        "import torch.nn as nn\n",
        "import torch.nn.functional as F\n",
        "import torch.optim as optim\n",
        "from torch.utils.data import Dataset, DataLoader"
      ],
      "execution_count": 0,
      "outputs": []
    },
    {
      "cell_type": "markdown",
      "metadata": {
        "_uuid": "a7364db7a108aaaa61b57524d9254fd06da839cb",
        "id": "qinEgc_TO9bI",
        "colab_type": "text"
      },
      "source": [
        "### 1. Load data"
      ]
    },
    {
      "cell_type": "code",
      "metadata": {
        "id": "fWmBdYtuPFSv",
        "colab_type": "code",
        "colab": {
          "base_uri": "https://localhost:8080/",
          "height": 55
        },
        "outputId": "ceef5ce4-5163-4243-b811-6329aa2c6020"
      },
      "source": [
        "from google.colab import drive\n",
        "drive.mount('/content/drive')"
      ],
      "execution_count": 2,
      "outputs": [
        {
          "output_type": "stream",
          "text": [
            "Drive already mounted at /content/drive; to attempt to forcibly remount, call drive.mount(\"/content/drive\", force_remount=True).\n"
          ],
          "name": "stdout"
        }
      ]
    },
    {
      "cell_type": "code",
      "metadata": {
        "trusted": true,
        "_uuid": "baa9532454a92797dc9a496d53cfa28326431cc3",
        "id": "30xyHZwlO9bL",
        "colab_type": "code",
        "colab": {}
      },
      "source": [
        "train_df = pd.read_csv('/content/drive/My Drive/DataSets/Mnist_Digit/train.csv')"
      ],
      "execution_count": 0,
      "outputs": []
    },
    {
      "cell_type": "code",
      "metadata": {
        "scrolled": true,
        "trusted": true,
        "_uuid": "95d78f41162949897f2b62420ebfcdbd21d96976",
        "id": "FA3e2D20O9bU",
        "colab_type": "code",
        "colab": {
          "base_uri": "https://localhost:8080/",
          "height": 253
        },
        "outputId": "7f378006-756f-4e99-90ba-95565b470bd3"
      },
      "source": [
        "train_df.head()"
      ],
      "execution_count": 4,
      "outputs": [
        {
          "output_type": "execute_result",
          "data": {
            "text/html": [
              "<div>\n",
              "<style scoped>\n",
              "    .dataframe tbody tr th:only-of-type {\n",
              "        vertical-align: middle;\n",
              "    }\n",
              "\n",
              "    .dataframe tbody tr th {\n",
              "        vertical-align: top;\n",
              "    }\n",
              "\n",
              "    .dataframe thead th {\n",
              "        text-align: right;\n",
              "    }\n",
              "</style>\n",
              "<table border=\"1\" class=\"dataframe\">\n",
              "  <thead>\n",
              "    <tr style=\"text-align: right;\">\n",
              "      <th></th>\n",
              "      <th>label</th>\n",
              "      <th>pixel0</th>\n",
              "      <th>pixel1</th>\n",
              "      <th>pixel2</th>\n",
              "      <th>pixel3</th>\n",
              "      <th>pixel4</th>\n",
              "      <th>pixel5</th>\n",
              "      <th>pixel6</th>\n",
              "      <th>pixel7</th>\n",
              "      <th>pixel8</th>\n",
              "      <th>pixel9</th>\n",
              "      <th>pixel10</th>\n",
              "      <th>pixel11</th>\n",
              "      <th>pixel12</th>\n",
              "      <th>pixel13</th>\n",
              "      <th>pixel14</th>\n",
              "      <th>pixel15</th>\n",
              "      <th>pixel16</th>\n",
              "      <th>pixel17</th>\n",
              "      <th>pixel18</th>\n",
              "      <th>pixel19</th>\n",
              "      <th>pixel20</th>\n",
              "      <th>pixel21</th>\n",
              "      <th>pixel22</th>\n",
              "      <th>pixel23</th>\n",
              "      <th>pixel24</th>\n",
              "      <th>pixel25</th>\n",
              "      <th>pixel26</th>\n",
              "      <th>pixel27</th>\n",
              "      <th>pixel28</th>\n",
              "      <th>pixel29</th>\n",
              "      <th>pixel30</th>\n",
              "      <th>pixel31</th>\n",
              "      <th>pixel32</th>\n",
              "      <th>pixel33</th>\n",
              "      <th>pixel34</th>\n",
              "      <th>pixel35</th>\n",
              "      <th>pixel36</th>\n",
              "      <th>pixel37</th>\n",
              "      <th>pixel38</th>\n",
              "      <th>...</th>\n",
              "      <th>pixel744</th>\n",
              "      <th>pixel745</th>\n",
              "      <th>pixel746</th>\n",
              "      <th>pixel747</th>\n",
              "      <th>pixel748</th>\n",
              "      <th>pixel749</th>\n",
              "      <th>pixel750</th>\n",
              "      <th>pixel751</th>\n",
              "      <th>pixel752</th>\n",
              "      <th>pixel753</th>\n",
              "      <th>pixel754</th>\n",
              "      <th>pixel755</th>\n",
              "      <th>pixel756</th>\n",
              "      <th>pixel757</th>\n",
              "      <th>pixel758</th>\n",
              "      <th>pixel759</th>\n",
              "      <th>pixel760</th>\n",
              "      <th>pixel761</th>\n",
              "      <th>pixel762</th>\n",
              "      <th>pixel763</th>\n",
              "      <th>pixel764</th>\n",
              "      <th>pixel765</th>\n",
              "      <th>pixel766</th>\n",
              "      <th>pixel767</th>\n",
              "      <th>pixel768</th>\n",
              "      <th>pixel769</th>\n",
              "      <th>pixel770</th>\n",
              "      <th>pixel771</th>\n",
              "      <th>pixel772</th>\n",
              "      <th>pixel773</th>\n",
              "      <th>pixel774</th>\n",
              "      <th>pixel775</th>\n",
              "      <th>pixel776</th>\n",
              "      <th>pixel777</th>\n",
              "      <th>pixel778</th>\n",
              "      <th>pixel779</th>\n",
              "      <th>pixel780</th>\n",
              "      <th>pixel781</th>\n",
              "      <th>pixel782</th>\n",
              "      <th>pixel783</th>\n",
              "    </tr>\n",
              "  </thead>\n",
              "  <tbody>\n",
              "    <tr>\n",
              "      <th>0</th>\n",
              "      <td>1</td>\n",
              "      <td>0</td>\n",
              "      <td>0</td>\n",
              "      <td>0</td>\n",
              "      <td>0</td>\n",
              "      <td>0</td>\n",
              "      <td>0</td>\n",
              "      <td>0</td>\n",
              "      <td>0</td>\n",
              "      <td>0</td>\n",
              "      <td>0</td>\n",
              "      <td>0</td>\n",
              "      <td>0</td>\n",
              "      <td>0</td>\n",
              "      <td>0</td>\n",
              "      <td>0</td>\n",
              "      <td>0</td>\n",
              "      <td>0</td>\n",
              "      <td>0</td>\n",
              "      <td>0</td>\n",
              "      <td>0</td>\n",
              "      <td>0</td>\n",
              "      <td>0</td>\n",
              "      <td>0</td>\n",
              "      <td>0</td>\n",
              "      <td>0</td>\n",
              "      <td>0</td>\n",
              "      <td>0</td>\n",
              "      <td>0</td>\n",
              "      <td>0</td>\n",
              "      <td>0</td>\n",
              "      <td>0</td>\n",
              "      <td>0</td>\n",
              "      <td>0</td>\n",
              "      <td>0</td>\n",
              "      <td>0</td>\n",
              "      <td>0</td>\n",
              "      <td>0</td>\n",
              "      <td>0</td>\n",
              "      <td>0</td>\n",
              "      <td>...</td>\n",
              "      <td>0</td>\n",
              "      <td>0</td>\n",
              "      <td>0</td>\n",
              "      <td>0</td>\n",
              "      <td>0</td>\n",
              "      <td>0</td>\n",
              "      <td>0</td>\n",
              "      <td>0</td>\n",
              "      <td>0</td>\n",
              "      <td>0</td>\n",
              "      <td>0</td>\n",
              "      <td>0</td>\n",
              "      <td>0</td>\n",
              "      <td>0</td>\n",
              "      <td>0</td>\n",
              "      <td>0</td>\n",
              "      <td>0</td>\n",
              "      <td>0</td>\n",
              "      <td>0</td>\n",
              "      <td>0</td>\n",
              "      <td>0</td>\n",
              "      <td>0</td>\n",
              "      <td>0</td>\n",
              "      <td>0</td>\n",
              "      <td>0</td>\n",
              "      <td>0</td>\n",
              "      <td>0</td>\n",
              "      <td>0</td>\n",
              "      <td>0</td>\n",
              "      <td>0</td>\n",
              "      <td>0</td>\n",
              "      <td>0</td>\n",
              "      <td>0</td>\n",
              "      <td>0</td>\n",
              "      <td>0</td>\n",
              "      <td>0</td>\n",
              "      <td>0</td>\n",
              "      <td>0</td>\n",
              "      <td>0</td>\n",
              "      <td>0</td>\n",
              "    </tr>\n",
              "    <tr>\n",
              "      <th>1</th>\n",
              "      <td>0</td>\n",
              "      <td>0</td>\n",
              "      <td>0</td>\n",
              "      <td>0</td>\n",
              "      <td>0</td>\n",
              "      <td>0</td>\n",
              "      <td>0</td>\n",
              "      <td>0</td>\n",
              "      <td>0</td>\n",
              "      <td>0</td>\n",
              "      <td>0</td>\n",
              "      <td>0</td>\n",
              "      <td>0</td>\n",
              "      <td>0</td>\n",
              "      <td>0</td>\n",
              "      <td>0</td>\n",
              "      <td>0</td>\n",
              "      <td>0</td>\n",
              "      <td>0</td>\n",
              "      <td>0</td>\n",
              "      <td>0</td>\n",
              "      <td>0</td>\n",
              "      <td>0</td>\n",
              "      <td>0</td>\n",
              "      <td>0</td>\n",
              "      <td>0</td>\n",
              "      <td>0</td>\n",
              "      <td>0</td>\n",
              "      <td>0</td>\n",
              "      <td>0</td>\n",
              "      <td>0</td>\n",
              "      <td>0</td>\n",
              "      <td>0</td>\n",
              "      <td>0</td>\n",
              "      <td>0</td>\n",
              "      <td>0</td>\n",
              "      <td>0</td>\n",
              "      <td>0</td>\n",
              "      <td>0</td>\n",
              "      <td>0</td>\n",
              "      <td>...</td>\n",
              "      <td>0</td>\n",
              "      <td>0</td>\n",
              "      <td>0</td>\n",
              "      <td>0</td>\n",
              "      <td>0</td>\n",
              "      <td>0</td>\n",
              "      <td>0</td>\n",
              "      <td>0</td>\n",
              "      <td>0</td>\n",
              "      <td>0</td>\n",
              "      <td>0</td>\n",
              "      <td>0</td>\n",
              "      <td>0</td>\n",
              "      <td>0</td>\n",
              "      <td>0</td>\n",
              "      <td>0</td>\n",
              "      <td>0</td>\n",
              "      <td>0</td>\n",
              "      <td>0</td>\n",
              "      <td>0</td>\n",
              "      <td>0</td>\n",
              "      <td>0</td>\n",
              "      <td>0</td>\n",
              "      <td>0</td>\n",
              "      <td>0</td>\n",
              "      <td>0</td>\n",
              "      <td>0</td>\n",
              "      <td>0</td>\n",
              "      <td>0</td>\n",
              "      <td>0</td>\n",
              "      <td>0</td>\n",
              "      <td>0</td>\n",
              "      <td>0</td>\n",
              "      <td>0</td>\n",
              "      <td>0</td>\n",
              "      <td>0</td>\n",
              "      <td>0</td>\n",
              "      <td>0</td>\n",
              "      <td>0</td>\n",
              "      <td>0</td>\n",
              "    </tr>\n",
              "    <tr>\n",
              "      <th>2</th>\n",
              "      <td>1</td>\n",
              "      <td>0</td>\n",
              "      <td>0</td>\n",
              "      <td>0</td>\n",
              "      <td>0</td>\n",
              "      <td>0</td>\n",
              "      <td>0</td>\n",
              "      <td>0</td>\n",
              "      <td>0</td>\n",
              "      <td>0</td>\n",
              "      <td>0</td>\n",
              "      <td>0</td>\n",
              "      <td>0</td>\n",
              "      <td>0</td>\n",
              "      <td>0</td>\n",
              "      <td>0</td>\n",
              "      <td>0</td>\n",
              "      <td>0</td>\n",
              "      <td>0</td>\n",
              "      <td>0</td>\n",
              "      <td>0</td>\n",
              "      <td>0</td>\n",
              "      <td>0</td>\n",
              "      <td>0</td>\n",
              "      <td>0</td>\n",
              "      <td>0</td>\n",
              "      <td>0</td>\n",
              "      <td>0</td>\n",
              "      <td>0</td>\n",
              "      <td>0</td>\n",
              "      <td>0</td>\n",
              "      <td>0</td>\n",
              "      <td>0</td>\n",
              "      <td>0</td>\n",
              "      <td>0</td>\n",
              "      <td>0</td>\n",
              "      <td>0</td>\n",
              "      <td>0</td>\n",
              "      <td>0</td>\n",
              "      <td>0</td>\n",
              "      <td>...</td>\n",
              "      <td>0</td>\n",
              "      <td>0</td>\n",
              "      <td>0</td>\n",
              "      <td>0</td>\n",
              "      <td>0</td>\n",
              "      <td>0</td>\n",
              "      <td>0</td>\n",
              "      <td>0</td>\n",
              "      <td>0</td>\n",
              "      <td>0</td>\n",
              "      <td>0</td>\n",
              "      <td>0</td>\n",
              "      <td>0</td>\n",
              "      <td>0</td>\n",
              "      <td>0</td>\n",
              "      <td>0</td>\n",
              "      <td>0</td>\n",
              "      <td>0</td>\n",
              "      <td>0</td>\n",
              "      <td>0</td>\n",
              "      <td>0</td>\n",
              "      <td>0</td>\n",
              "      <td>0</td>\n",
              "      <td>0</td>\n",
              "      <td>0</td>\n",
              "      <td>0</td>\n",
              "      <td>0</td>\n",
              "      <td>0</td>\n",
              "      <td>0</td>\n",
              "      <td>0</td>\n",
              "      <td>0</td>\n",
              "      <td>0</td>\n",
              "      <td>0</td>\n",
              "      <td>0</td>\n",
              "      <td>0</td>\n",
              "      <td>0</td>\n",
              "      <td>0</td>\n",
              "      <td>0</td>\n",
              "      <td>0</td>\n",
              "      <td>0</td>\n",
              "    </tr>\n",
              "    <tr>\n",
              "      <th>3</th>\n",
              "      <td>4</td>\n",
              "      <td>0</td>\n",
              "      <td>0</td>\n",
              "      <td>0</td>\n",
              "      <td>0</td>\n",
              "      <td>0</td>\n",
              "      <td>0</td>\n",
              "      <td>0</td>\n",
              "      <td>0</td>\n",
              "      <td>0</td>\n",
              "      <td>0</td>\n",
              "      <td>0</td>\n",
              "      <td>0</td>\n",
              "      <td>0</td>\n",
              "      <td>0</td>\n",
              "      <td>0</td>\n",
              "      <td>0</td>\n",
              "      <td>0</td>\n",
              "      <td>0</td>\n",
              "      <td>0</td>\n",
              "      <td>0</td>\n",
              "      <td>0</td>\n",
              "      <td>0</td>\n",
              "      <td>0</td>\n",
              "      <td>0</td>\n",
              "      <td>0</td>\n",
              "      <td>0</td>\n",
              "      <td>0</td>\n",
              "      <td>0</td>\n",
              "      <td>0</td>\n",
              "      <td>0</td>\n",
              "      <td>0</td>\n",
              "      <td>0</td>\n",
              "      <td>0</td>\n",
              "      <td>0</td>\n",
              "      <td>0</td>\n",
              "      <td>0</td>\n",
              "      <td>0</td>\n",
              "      <td>0</td>\n",
              "      <td>0</td>\n",
              "      <td>...</td>\n",
              "      <td>0</td>\n",
              "      <td>0</td>\n",
              "      <td>0</td>\n",
              "      <td>0</td>\n",
              "      <td>0</td>\n",
              "      <td>0</td>\n",
              "      <td>0</td>\n",
              "      <td>0</td>\n",
              "      <td>0</td>\n",
              "      <td>0</td>\n",
              "      <td>0</td>\n",
              "      <td>0</td>\n",
              "      <td>0</td>\n",
              "      <td>0</td>\n",
              "      <td>0</td>\n",
              "      <td>0</td>\n",
              "      <td>0</td>\n",
              "      <td>0</td>\n",
              "      <td>0</td>\n",
              "      <td>0</td>\n",
              "      <td>0</td>\n",
              "      <td>0</td>\n",
              "      <td>0</td>\n",
              "      <td>0</td>\n",
              "      <td>0</td>\n",
              "      <td>0</td>\n",
              "      <td>0</td>\n",
              "      <td>0</td>\n",
              "      <td>0</td>\n",
              "      <td>0</td>\n",
              "      <td>0</td>\n",
              "      <td>0</td>\n",
              "      <td>0</td>\n",
              "      <td>0</td>\n",
              "      <td>0</td>\n",
              "      <td>0</td>\n",
              "      <td>0</td>\n",
              "      <td>0</td>\n",
              "      <td>0</td>\n",
              "      <td>0</td>\n",
              "    </tr>\n",
              "    <tr>\n",
              "      <th>4</th>\n",
              "      <td>0</td>\n",
              "      <td>0</td>\n",
              "      <td>0</td>\n",
              "      <td>0</td>\n",
              "      <td>0</td>\n",
              "      <td>0</td>\n",
              "      <td>0</td>\n",
              "      <td>0</td>\n",
              "      <td>0</td>\n",
              "      <td>0</td>\n",
              "      <td>0</td>\n",
              "      <td>0</td>\n",
              "      <td>0</td>\n",
              "      <td>0</td>\n",
              "      <td>0</td>\n",
              "      <td>0</td>\n",
              "      <td>0</td>\n",
              "      <td>0</td>\n",
              "      <td>0</td>\n",
              "      <td>0</td>\n",
              "      <td>0</td>\n",
              "      <td>0</td>\n",
              "      <td>0</td>\n",
              "      <td>0</td>\n",
              "      <td>0</td>\n",
              "      <td>0</td>\n",
              "      <td>0</td>\n",
              "      <td>0</td>\n",
              "      <td>0</td>\n",
              "      <td>0</td>\n",
              "      <td>0</td>\n",
              "      <td>0</td>\n",
              "      <td>0</td>\n",
              "      <td>0</td>\n",
              "      <td>0</td>\n",
              "      <td>0</td>\n",
              "      <td>0</td>\n",
              "      <td>0</td>\n",
              "      <td>0</td>\n",
              "      <td>0</td>\n",
              "      <td>...</td>\n",
              "      <td>0</td>\n",
              "      <td>0</td>\n",
              "      <td>0</td>\n",
              "      <td>0</td>\n",
              "      <td>0</td>\n",
              "      <td>0</td>\n",
              "      <td>0</td>\n",
              "      <td>0</td>\n",
              "      <td>0</td>\n",
              "      <td>0</td>\n",
              "      <td>0</td>\n",
              "      <td>0</td>\n",
              "      <td>0</td>\n",
              "      <td>0</td>\n",
              "      <td>0</td>\n",
              "      <td>0</td>\n",
              "      <td>0</td>\n",
              "      <td>0</td>\n",
              "      <td>0</td>\n",
              "      <td>0</td>\n",
              "      <td>0</td>\n",
              "      <td>0</td>\n",
              "      <td>0</td>\n",
              "      <td>0</td>\n",
              "      <td>0</td>\n",
              "      <td>0</td>\n",
              "      <td>0</td>\n",
              "      <td>0</td>\n",
              "      <td>0</td>\n",
              "      <td>0</td>\n",
              "      <td>0</td>\n",
              "      <td>0</td>\n",
              "      <td>0</td>\n",
              "      <td>0</td>\n",
              "      <td>0</td>\n",
              "      <td>0</td>\n",
              "      <td>0</td>\n",
              "      <td>0</td>\n",
              "      <td>0</td>\n",
              "      <td>0</td>\n",
              "    </tr>\n",
              "  </tbody>\n",
              "</table>\n",
              "<p>5 rows × 785 columns</p>\n",
              "</div>"
            ],
            "text/plain": [
              "   label  pixel0  pixel1  pixel2  ...  pixel780  pixel781  pixel782  pixel783\n",
              "0      1       0       0       0  ...         0         0         0         0\n",
              "1      0       0       0       0  ...         0         0         0         0\n",
              "2      1       0       0       0  ...         0         0         0         0\n",
              "3      4       0       0       0  ...         0         0         0         0\n",
              "4      0       0       0       0  ...         0         0         0         0\n",
              "\n",
              "[5 rows x 785 columns]"
            ]
          },
          "metadata": {
            "tags": []
          },
          "execution_count": 4
        }
      ]
    },
    {
      "cell_type": "code",
      "metadata": {
        "trusted": true,
        "_uuid": "71d2f0064bbf53dc615f86c28d9199e767d04e92",
        "id": "sDDFE1f6O9bc",
        "colab_type": "code",
        "colab": {
          "base_uri": "https://localhost:8080/",
          "height": 107
        },
        "outputId": "0acd533d-b61b-4c2a-dd05-e1b61dc88e17"
      },
      "source": [
        "train_df.info()"
      ],
      "execution_count": 5,
      "outputs": [
        {
          "output_type": "stream",
          "text": [
            "<class 'pandas.core.frame.DataFrame'>\n",
            "RangeIndex: 42000 entries, 0 to 41999\n",
            "Columns: 785 entries, label to pixel783\n",
            "dtypes: int64(785)\n",
            "memory usage: 251.5 MB\n"
          ],
          "name": "stdout"
        }
      ]
    },
    {
      "cell_type": "markdown",
      "metadata": {
        "_uuid": "eca6f1bf3353620fa49845434f1583031364f584",
        "id": "S_SZ_7vZO9bl",
        "colab_type": "text"
      },
      "source": [
        "Our training dataset has 42000 rows(i.e. 42000 samples), each row has a 'label' column and 784 'pixel' columns(represent a $28 \\times 28$ pixel picture). Let's see a few of them."
      ]
    },
    {
      "cell_type": "code",
      "metadata": {
        "trusted": true,
        "_uuid": "834f3aaf04b75b39c0d5c1516dbc57fc95157c2d",
        "id": "VC3S-pCjO9bo",
        "colab_type": "code",
        "colab": {
          "base_uri": "https://localhost:8080/",
          "height": 231
        },
        "outputId": "f25a2efc-35a3-4b4b-8fb4-e2ac52c3741c"
      },
      "source": [
        "for i in range(8):\n",
        "    plt.subplot(1, 8, i+1)\n",
        "    plt.imshow(train_df.iloc[i, 1:].values.reshape(28, 28), cmap='gray')\n",
        "    print(train_df.iloc[i, 0])"
      ],
      "execution_count": 6,
      "outputs": [
        {
          "output_type": "stream",
          "text": [
            "1\n",
            "0\n",
            "1\n",
            "4\n",
            "0\n",
            "0\n",
            "7\n",
            "3\n"
          ],
          "name": "stdout"
        },
        {
          "output_type": "display_data",
          "data": {
            "image/png": "[encoded data removed]",
            "text/plain": [
              "<Figure size 432x288 with 8 Axes>"
            ]
          },
          "metadata": {
            "tags": []
          }
        }
      ]
    },
    {
      "cell_type": "code",
      "metadata": {
        "trusted": true,
        "_uuid": "c36b4fad792d151660017c1dde5b6028a2fb7a0d",
        "id": "Tnz1tmCcO9b0",
        "colab_type": "code",
        "colab": {
          "base_uri": "https://localhost:8080/",
          "height": 287
        },
        "outputId": "d2f0d240-f904-448c-e993-1bc83dd7aced"
      },
      "source": [
        "train_df.iloc[i, 1:].plot(kind='hist')"
      ],
      "execution_count": 7,
      "outputs": [
        {
          "output_type": "execute_result",
          "data": {
            "text/plain": [
              "<matplotlib.axes._subplots.AxesSubplot at 0x7f594128fe10>"
            ]
          },
          "metadata": {
            "tags": []
          },
          "execution_count": 7
        },
        {
          "output_type": "display_data",
          "data": {
            "image/png": "[encoded data removed]",
            "text/plain": [
              "<Figure size 432x288 with 1 Axes>"
            ]
          },
          "metadata": {
            "tags": []
          }
        }
      ]
    },
    {
      "cell_type": "markdown",
      "metadata": {
        "_uuid": "7560158239a3d333bc053a607b55139719f9596e",
        "id": "kmk8Ayg3O9b8",
        "colab_type": "text"
      },
      "source": [
        "The value of each pixel is 0~255, we'd better normalize it(devided by 255). `torch.utils.data.Dataset` is a convenient tools for data loading provided by PyTorch.\n",
        "\n",
        "It is an abstract class representing a dataset. Your custom dataset should inherit Dataset and override the following methods:\n",
        "\n",
        "- `__len__` so that len(dataset) returns the size of the dataset.\n",
        "- `__getitem__` to support the indexing such that dataset[i] can be used to get ith sample"
      ]
    },
    {
      "cell_type": "code",
      "metadata": {
        "trusted": true,
        "_uuid": "3c122217e9407f3bab68fb36f172f639c0d42c39",
        "id": "FruH67OHO9b-",
        "colab_type": "code",
        "colab": {}
      },
      "source": [
        "class MNIST_dataset(Dataset):\n",
        "    def __init__(self, df, rows=42000):\n",
        "        self.imgnp = df.iloc[:rows, 1:].values\n",
        "        self.labels = df.iloc[:rows, 0].values\n",
        "        self.rows = rows\n",
        "    \n",
        "    def __len__(self):\n",
        "        return self.rows\n",
        "    \n",
        "    def __getitem__(self, idx):\n",
        "        image = torch.tensor(self.imgnp[idx], dtype=torch.float) / 255  # Normalize\n",
        "        image = image.view(1, 28, 28)  # (channel, height, width)\n",
        "        label = self.labels[idx]\n",
        "        return (image, label)"
      ],
      "execution_count": 0,
      "outputs": []
    },
    {
      "cell_type": "code",
      "metadata": {
        "trusted": true,
        "_uuid": "223781b5c1232d40a0b96e81e0ebe8fafd45888d",
        "id": "azAnGy_sO9cH",
        "colab_type": "code",
        "colab": {}
      },
      "source": [
        "trainloader = DataLoader(MNIST_dataset(train_df, 42000), batch_size=4, shuffle=True)"
      ],
      "execution_count": 0,
      "outputs": []
    },
    {
      "cell_type": "code",
      "metadata": {
        "trusted": true,
        "_uuid": "f23baf36115ffd0cddb9c9b31f11ebff3374ec94",
        "id": "CT8SWSEbO9cZ",
        "colab_type": "code",
        "colab": {}
      },
      "source": [
        "dataiter = iter(trainloader)"
      ],
      "execution_count": 0,
      "outputs": []
    },
    {
      "cell_type": "code",
      "metadata": {
        "trusted": true,
        "_uuid": "f7eae53fa21b41f2ce955bb55c74b746fc9182a1",
        "id": "5XxqwM3pO9ci",
        "colab_type": "code",
        "colab": {}
      },
      "source": [
        "images, labels = dataiter.next()"
      ],
      "execution_count": 0,
      "outputs": []
    },
    {
      "cell_type": "code",
      "metadata": {
        "trusted": true,
        "_uuid": "e5f2ac95c714aad01f8d2683bc4c0e625f269806",
        "id": "FJOp_xWPO9cs",
        "colab_type": "code",
        "colab": {
          "base_uri": "https://localhost:8080/",
          "height": 35
        },
        "outputId": "47066d2b-8cca-4648-bca6-687c65252821"
      },
      "source": [
        "images.size(), labels.size()"
      ],
      "execution_count": 12,
      "outputs": [
        {
          "output_type": "execute_result",
          "data": {
            "text/plain": [
              "(torch.Size([4, 1, 28, 28]), torch.Size([4]))"
            ]
          },
          "metadata": {
            "tags": []
          },
          "execution_count": 12
        }
      ]
    },
    {
      "cell_type": "code",
      "metadata": {
        "trusted": true,
        "_uuid": "57a7a391fef80e1346fa98a4eecf8559b3cab840",
        "id": "Z1QtDLVSO9cy",
        "colab_type": "code",
        "colab": {
          "base_uri": "https://localhost:8080/",
          "height": 124
        },
        "outputId": "54f1dd09-4636-4aff-bfd6-2df0c782cfc1"
      },
      "source": [
        "for i in range(4):\n",
        "    plt.subplot(1, 4, i+1)\n",
        "    plt.imshow(images[i, 0], cmap='gray')"
      ],
      "execution_count": 13,
      "outputs": [
        {
          "output_type": "display_data",
          "data": {
            "image/png": "[encoded data removed]",
            "text/plain": [
              "<Figure size 432x288 with 4 Axes>"
            ]
          },
          "metadata": {
            "tags": []
          }
        }
      ]
    },
    {
      "cell_type": "code",
      "metadata": {
        "trusted": true,
        "_uuid": "19cf0abececaf87f33cef923e0f85ec4ad43c918",
        "id": "HFC5J8BlO9c3",
        "colab_type": "code",
        "colab": {
          "base_uri": "https://localhost:8080/",
          "height": 35
        },
        "outputId": "e78b7ca6-4531-4ce5-8aed-b93d396f4a9a"
      },
      "source": [
        "labels"
      ],
      "execution_count": 14,
      "outputs": [
        {
          "output_type": "execute_result",
          "data": {
            "text/plain": [
              "tensor([6, 1, 1, 9])"
            ]
          },
          "metadata": {
            "tags": []
          },
          "execution_count": 14
        }
      ]
    },
    {
      "cell_type": "markdown",
      "metadata": {
        "_uuid": "b1bce9c4b41c4f624716ee883e65117524a74aaf",
        "id": "as4iOzhgO9c7",
        "colab_type": "text"
      },
      "source": [
        "## 2. Define a Convolution Neural Network"
      ]
    },
    {
      "cell_type": "markdown",
      "metadata": {
        "_uuid": "9a1b5c717db6398897fa8b1dd13c0530a3ab7496",
        "id": "zZ4cp_JBO9c8",
        "colab_type": "text"
      },
      "source": [
        "Our CNN model is as follow\n",
        "![CNN model](https://pytorch.org/tutorials/_images/mnist.png)"
      ]
    },
    {
      "cell_type": "code",
      "metadata": {
        "trusted": true,
        "_uuid": "876e2f4506cab849b2a357238ebd72a20374d932",
        "id": "VyceyUDIO9c9",
        "colab_type": "code",
        "colab": {}
      },
      "source": [
        "class Net(nn.Module):\n",
        "    def __init__(self):\n",
        "        super(Net, self).__init__()\n",
        "        self.conv1 = nn.Conv2d(1, 6, 5)\n",
        "        self.pool = nn.MaxPool2d(2, 2)\n",
        "        self.conv2 = nn.Conv2d(6, 16, 5)\n",
        "        self.fc1 = nn.Linear(16 * 4 * 4, 120)\n",
        "        self.fc2 = nn.Linear(120, 84)\n",
        "        self.fc3 = nn.Linear(84, 10)\n",
        "        \n",
        "    def forward(self, x):\n",
        "        x = self.pool(F.relu(self.conv1(x)))\n",
        "        x = self.pool(F.relu(self.conv2(x)))\n",
        "        x = x.view(-1, 16 * 4 * 4)\n",
        "        x = F.relu(self.fc1(x))\n",
        "        x = F.relu(self.fc2(x))\n",
        "        x = self.fc3(x)\n",
        "        return x"
      ],
      "execution_count": 0,
      "outputs": []
    },
    {
      "cell_type": "code",
      "metadata": {
        "id": "iH4kqtv3YdCU",
        "colab_type": "code",
        "colab": {
          "base_uri": "https://localhost:8080/",
          "height": 35
        },
        "outputId": "175aefa2-a598-4777-8cf7-69c13af0c714"
      },
      "source": [
        " # Device configuration\n",
        "device = torch.device('cuda:0' if torch.cuda.is_available() else 'cpu')\n",
        "torch.cuda.get_device_name(0)"
      ],
      "execution_count": 16,
      "outputs": [
        {
          "output_type": "execute_result",
          "data": {
            "text/plain": [
              "'Tesla T4'"
            ]
          },
          "metadata": {
            "tags": []
          },
          "execution_count": 16
        }
      ]
    },
    {
      "cell_type": "code",
      "metadata": {
        "trusted": true,
        "_uuid": "b8893297ac76f1fe079e08040f14bc925a7f745e",
        "id": "C9I6Fw9DO9dB",
        "colab_type": "code",
        "colab": {}
      },
      "source": [
        "net = Net().to(device)"
      ],
      "execution_count": 0,
      "outputs": []
    },
    {
      "cell_type": "markdown",
      "metadata": {
        "_uuid": "f7bddddff80296d4f470ccc8bb7fe32d2d1005c1",
        "id": "0py5pMZDO9dE",
        "colab_type": "text"
      },
      "source": [
        "## 3. Loss Function"
      ]
    },
    {
      "cell_type": "code",
      "metadata": {
        "trusted": true,
        "_uuid": "58b87f5a111106c4f203eb25632aeeb11a1ff1b7",
        "id": "jeV16ahBO9dG",
        "colab_type": "code",
        "colab": {}
      },
      "source": [
        "criterion = nn.CrossEntropyLoss()\n",
        "optimizer = optim.SGD(net.parameters(), lr=0.01, momentum=0.9) "
      ],
      "execution_count": 0,
      "outputs": []
    },
    {
      "cell_type": "markdown",
      "metadata": {
        "_uuid": "4b2bed1951c4cff7101f57b6b99c5105695a4cd5",
        "id": "qSa-lAcEO9dJ",
        "colab_type": "text"
      },
      "source": [
        "lr(learning rate) is a very important hyperparameter. Small lr will make the traning process very slow, but increase lr may also cause overshooting the global optimum and cause divergent. A good method is plot the Learning rate curve."
      ]
    },
    {
      "cell_type": "markdown",
      "metadata": {
        "_uuid": "115bdc6198d6fcd1be0c38de217b1e2b73019b81",
        "id": "8SS-9EeCO9dK",
        "colab_type": "text"
      },
      "source": [
        "## 4. Train the network on the training data"
      ]
    },
    {
      "cell_type": "code",
      "metadata": {
        "scrolled": false,
        "trusted": true,
        "_uuid": "14f96f00aa8bf9586152891a3bd4f9e1e82d71cc",
        "id": "RlMjFPLTO9dL",
        "colab_type": "code",
        "colab": {
          "base_uri": "https://localhost:8080/",
          "height": 503
        },
        "outputId": "1a92494f-f122-4234-cb37-8963a99ca30f"
      },
      "source": [
        "running_loss_list = []\n",
        "for epoch in range(2):\n",
        "    running_loss = 0.0\n",
        "    for i, data in enumerate(trainloader, 0):\n",
        "        inputs, labels = data\n",
        "        inputs=inputs.to(device)\n",
        "        labels=labels.to(device)\n",
        "        optimizer.zero_grad()\n",
        "        \n",
        "        outputs = net(inputs)\n",
        "        loss = criterion(outputs, labels)\n",
        "        loss.backward()\n",
        "        optimizer.step()\n",
        "        \n",
        "        # print statistics\n",
        "        running_loss += loss.item()\n",
        "        if i % 800 == 799:\n",
        "            print('[%d, %5d] loss: %.3f' %\n",
        "                 (epoch + 1, i + 1, running_loss / 800)\n",
        "                 )\n",
        "            running_loss_list.append(running_loss)\n",
        "            running_loss = 0.0\n",
        "print('Finished Training')"
      ],
      "execution_count": 21,
      "outputs": [
        {
          "output_type": "stream",
          "text": [
            "[1,   800] loss: 1.169\n",
            "[1,  1600] loss: 0.402\n",
            "[1,  2400] loss: 0.319\n",
            "[1,  3200] loss: 0.301\n",
            "[1,  4000] loss: 0.310\n",
            "[1,  4800] loss: 0.225\n",
            "[1,  5600] loss: 0.283\n",
            "[1,  6400] loss: 0.289\n",
            "[1,  7200] loss: 0.261\n",
            "[1,  8000] loss: 0.309\n",
            "[1,  8800] loss: 0.258\n",
            "[1,  9600] loss: 0.259\n",
            "[1, 10400] loss: 0.199\n",
            "[2,   800] loss: 0.225\n",
            "[2,  1600] loss: 0.225\n",
            "[2,  2400] loss: 0.255\n",
            "[2,  3200] loss: 0.241\n",
            "[2,  4000] loss: 0.195\n",
            "[2,  4800] loss: 0.212\n",
            "[2,  5600] loss: 0.273\n",
            "[2,  6400] loss: 0.210\n",
            "[2,  7200] loss: 0.381\n",
            "[2,  8000] loss: 0.364\n",
            "[2,  8800] loss: 0.431\n",
            "[2,  9600] loss: 0.376\n",
            "[2, 10400] loss: 0.406\n",
            "Finished Training\n"
          ],
          "name": "stdout"
        }
      ]
    },
    {
      "cell_type": "code",
      "metadata": {
        "scrolled": true,
        "trusted": true,
        "_uuid": "9501950e78219b51f6de27324615bfd879e860c6",
        "id": "ni4CiCytO9dQ",
        "colab_type": "code",
        "colab": {
          "base_uri": "https://localhost:8080/",
          "height": 287
        },
        "outputId": "91f9b387-aabb-47be-eb57-e39bd0cdbbba"
      },
      "source": [
        "plt.plot(running_loss_list)"
      ],
      "execution_count": 22,
      "outputs": [
        {
          "output_type": "execute_result",
          "data": {
            "text/plain": [
              "[<matplotlib.lines.Line2D at 0x7f5931d08fd0>]"
            ]
          },
          "metadata": {
            "tags": []
          },
          "execution_count": 22
        },
        {
          "output_type": "display_data",
          "data": {
            "image/png": "[encoded data removed]",
            "text/plain": [
              "<Figure size 432x288 with 1 Axes>"
            ]
          },
          "metadata": {
            "tags": []
          }
        }
      ]
    },
    {
      "cell_type": "markdown",
      "metadata": {
        "_uuid": "510872f3f6e8b3dcbb58b1151098c3a7f60115bc",
        "id": "9oi5K6zJO9dX",
        "colab_type": "text"
      },
      "source": [
        "The Learning rate curve is divergent, which means the learning rate is to large, we should decrease it."
      ]
    },
    {
      "cell_type": "code",
      "metadata": {
        "scrolled": false,
        "trusted": true,
        "_uuid": "4f7d3af190186c1df0c7fbfb9114f972b35bec23",
        "id": "znHickWrO9dZ",
        "colab_type": "code",
        "colab": {
          "base_uri": "https://localhost:8080/",
          "height": 1000
        },
        "outputId": "6adeb28f-c6e5-402a-8e6c-12dac09bde15"
      },
      "source": [
        "net = Net().to(device)\n",
        "optimizer = optim.SGD(net.parameters(), lr=0.001, momentum=0.9)\n",
        "\n",
        "running_loss_list = []\n",
        "for epoch in range(2):\n",
        "    running_loss = 0.0\n",
        "    for i, data in enumerate(trainloader, 0):\n",
        "        inputs, labels = data\n",
        "        inputs, labels = inputs.to(device), labels.to(device)\n",
        "        optimizer.zero_grad()\n",
        "        \n",
        "        outputs = net(inputs)\n",
        "        loss = criterion(outputs, labels)\n",
        "        loss.backward()\n",
        "        optimizer.step()\n",
        "        \n",
        "        # print statistics\n",
        "        running_loss += loss.item()\n",
        "        if i % 200 == 199:\n",
        "            print('[%d, %5d] loss: %.3f' %\n",
        "                 (epoch + 1, i + 1, running_loss / 200)\n",
        "                 )\n",
        "            running_loss_list.append(running_loss)\n",
        "            running_loss = 0.0\n",
        "print('Finished Training')"
      ],
      "execution_count": 23,
      "outputs": [
        {
          "output_type": "stream",
          "text": [
            "[1,   200] loss: 2.304\n",
            "[1,   400] loss: 2.301\n",
            "[1,   600] loss: 2.296\n",
            "[1,   800] loss: 2.285\n",
            "[1,  1000] loss: 2.269\n",
            "[1,  1200] loss: 2.174\n",
            "[1,  1400] loss: 1.600\n",
            "[1,  1600] loss: 1.015\n",
            "[1,  1800] loss: 0.693\n",
            "[1,  2000] loss: 0.570\n",
            "[1,  2200] loss: 0.504\n",
            "[1,  2400] loss: 0.448\n",
            "[1,  2600] loss: 0.317\n",
            "[1,  2800] loss: 0.302\n",
            "[1,  3000] loss: 0.372\n",
            "[1,  3200] loss: 0.284\n",
            "[1,  3400] loss: 0.252\n",
            "[1,  3600] loss: 0.288\n",
            "[1,  3800] loss: 0.235\n",
            "[1,  4000] loss: 0.232\n",
            "[1,  4200] loss: 0.208\n",
            "[1,  4400] loss: 0.195\n",
            "[1,  4600] loss: 0.205\n",
            "[1,  4800] loss: 0.157\n",
            "[1,  5000] loss: 0.145\n",
            "[1,  5200] loss: 0.155\n",
            "[1,  5400] loss: 0.188\n",
            "[1,  5600] loss: 0.189\n",
            "[1,  5800] loss: 0.143\n",
            "[1,  6000] loss: 0.175\n",
            "[1,  6200] loss: 0.131\n",
            "[1,  6400] loss: 0.154\n",
            "[1,  6600] loss: 0.121\n",
            "[1,  6800] loss: 0.126\n",
            "[1,  7000] loss: 0.124\n",
            "[1,  7200] loss: 0.146\n",
            "[1,  7400] loss: 0.136\n",
            "[1,  7600] loss: 0.136\n",
            "[1,  7800] loss: 0.100\n",
            "[1,  8000] loss: 0.131\n",
            "[1,  8200] loss: 0.124\n",
            "[1,  8400] loss: 0.107\n",
            "[1,  8600] loss: 0.157\n",
            "[1,  8800] loss: 0.127\n",
            "[1,  9000] loss: 0.123\n",
            "[1,  9200] loss: 0.092\n",
            "[1,  9400] loss: 0.127\n",
            "[1,  9600] loss: 0.115\n",
            "[1,  9800] loss: 0.108\n",
            "[1, 10000] loss: 0.088\n",
            "[1, 10200] loss: 0.141\n",
            "[1, 10400] loss: 0.093\n",
            "[2,   200] loss: 0.081\n",
            "[2,   400] loss: 0.109\n",
            "[2,   600] loss: 0.122\n",
            "[2,   800] loss: 0.070\n",
            "[2,  1000] loss: 0.100\n",
            "[2,  1200] loss: 0.121\n",
            "[2,  1400] loss: 0.094\n",
            "[2,  1600] loss: 0.064\n",
            "[2,  1800] loss: 0.108\n",
            "[2,  2000] loss: 0.102\n",
            "[2,  2200] loss: 0.079\n",
            "[2,  2400] loss: 0.074\n",
            "[2,  2600] loss: 0.081\n",
            "[2,  2800] loss: 0.065\n",
            "[2,  3000] loss: 0.104\n",
            "[2,  3200] loss: 0.086\n",
            "[2,  3400] loss: 0.107\n",
            "[2,  3600] loss: 0.098\n",
            "[2,  3800] loss: 0.069\n",
            "[2,  4000] loss: 0.055\n",
            "[2,  4200] loss: 0.084\n",
            "[2,  4400] loss: 0.114\n",
            "[2,  4600] loss: 0.085\n",
            "[2,  4800] loss: 0.052\n",
            "[2,  5000] loss: 0.093\n",
            "[2,  5200] loss: 0.098\n",
            "[2,  5400] loss: 0.109\n",
            "[2,  5600] loss: 0.100\n",
            "[2,  5800] loss: 0.057\n",
            "[2,  6000] loss: 0.067\n",
            "[2,  6200] loss: 0.076\n",
            "[2,  6400] loss: 0.115\n",
            "[2,  6600] loss: 0.087\n",
            "[2,  6800] loss: 0.051\n",
            "[2,  7000] loss: 0.039\n",
            "[2,  7200] loss: 0.077\n",
            "[2,  7400] loss: 0.054\n",
            "[2,  7600] loss: 0.056\n",
            "[2,  7800] loss: 0.090\n",
            "[2,  8000] loss: 0.067\n",
            "[2,  8200] loss: 0.090\n",
            "[2,  8400] loss: 0.084\n",
            "[2,  8600] loss: 0.043\n",
            "[2,  8800] loss: 0.065\n",
            "[2,  9000] loss: 0.064\n",
            "[2,  9200] loss: 0.068\n",
            "[2,  9400] loss: 0.094\n",
            "[2,  9600] loss: 0.106\n",
            "[2,  9800] loss: 0.079\n",
            "[2, 10000] loss: 0.057\n",
            "[2, 10200] loss: 0.067\n",
            "[2, 10400] loss: 0.098\n",
            "Finished Training\n"
          ],
          "name": "stdout"
        }
      ]
    },
    {
      "cell_type": "code",
      "metadata": {
        "trusted": true,
        "_uuid": "f10483590dfc7572fcdc2574b5463f4331a5e63f",
        "id": "MTslvAFyO9dc",
        "colab_type": "code",
        "colab": {
          "base_uri": "https://localhost:8080/",
          "height": 287
        },
        "outputId": "c8ae1930-ac52-45ab-9b49-a08fe0d96308"
      },
      "source": [
        "plt.plot(running_loss_list)"
      ],
      "execution_count": 24,
      "outputs": [
        {
          "output_type": "execute_result",
          "data": {
            "text/plain": [
              "[<matplotlib.lines.Line2D at 0x7f5931df3828>]"
            ]
          },
          "metadata": {
            "tags": []
          },
          "execution_count": 24
        },
        {
          "output_type": "display_data",
          "data": {
            "image/png": "[encoded data removed]",
            "text/plain": [
              "<Figure size 432x288 with 1 Axes>"
            ]
          },
          "metadata": {
            "tags": []
          }
        }
      ]
    },
    {
      "cell_type": "markdown",
      "metadata": {
        "_uuid": "5463e9fbb9c7dfe2f88a0d0c6c94b376f832ebc0",
        "id": "J40sZKTOO9dg",
        "colab_type": "text"
      },
      "source": [
        "I't better, we will take this model as our final one."
      ]
    },
    {
      "cell_type": "markdown",
      "metadata": {
        "_uuid": "2570c1d84788fed3b7d44bc101a0857d3f11b560",
        "id": "8-DHzsypO9di",
        "colab_type": "text"
      },
      "source": [
        "## 5. Evaluate the model"
      ]
    },
    {
      "cell_type": "code",
      "metadata": {
        "trusted": true,
        "_uuid": "293f197b1a05b62046215b209b92251c053de315",
        "id": "zT7csOP_O9dk",
        "colab_type": "code",
        "colab": {
          "base_uri": "https://localhost:8080/",
          "height": 35
        },
        "outputId": "d09b6baa-f1e9-4e32-ccd8-efcd38e76852"
      },
      "source": [
        "correct = 0\n",
        "total = 0\n",
        "with torch.no_grad():\n",
        "    for data in trainloader:\n",
        "        inputs, labels = data\n",
        "        inputs, labels = inputs.to(device), labels.to(device)\n",
        "        outputs = net(inputs)\n",
        "        _, predicted = torch.max(outputs.data, 1)\n",
        "        total += labels.size(0)\n",
        "        correct += (predicted == labels).sum().item()\n",
        "print('Accuracy of the network on train images: ', correct/total)"
      ],
      "execution_count": 27,
      "outputs": [
        {
          "output_type": "stream",
          "text": [
            "Accuracy of the network on train images:  0.9820476190476191\n"
          ],
          "name": "stdout"
        }
      ]
    },
    {
      "cell_type": "markdown",
      "metadata": {
        "_uuid": "a2ec4a40d3f2583dd8c77097be5d2754f5bc8a3b",
        "id": "PzLaInVEO9dt",
        "colab_type": "text"
      },
      "source": [
        "We achieve 98% accuracy on training data. It's not bad!"
      ]
    },
    {
      "cell_type": "markdown",
      "metadata": {
        "_uuid": "733469b38e2cc0ea4e153606d3c8d41a6f640df7",
        "id": "Yp_vqEEMO9du",
        "colab_type": "text"
      },
      "source": [
        "## 6. Prediction and Submition"
      ]
    },
    {
      "cell_type": "code",
      "metadata": {
        "trusted": true,
        "_uuid": "b5f19ca8bcaf85edad8ad7ed076b4804e53858c8",
        "id": "YHvTn4ETO9du",
        "colab_type": "code",
        "colab": {}
      },
      "source": [
        "test_df = pd.read_csv('/content/drive/My Drive/DataSets/Mnist_Digit/test.csv')"
      ],
      "execution_count": 0,
      "outputs": []
    },
    {
      "cell_type": "code",
      "metadata": {
        "trusted": true,
        "_uuid": "0a1c3eff58cec87418289390d071219a12d0da02",
        "id": "Tc7X7PnDO9dy",
        "colab_type": "code",
        "colab": {
          "base_uri": "https://localhost:8080/",
          "height": 35
        },
        "outputId": "14a3f0cc-7558-4a67-cec1-37d8a9098d14"
      },
      "source": [
        "test_df.values.shape"
      ],
      "execution_count": 29,
      "outputs": [
        {
          "output_type": "execute_result",
          "data": {
            "text/plain": [
              "(28000, 784)"
            ]
          },
          "metadata": {
            "tags": []
          },
          "execution_count": 29
        }
      ]
    },
    {
      "cell_type": "code",
      "metadata": {
        "trusted": true,
        "_uuid": "4bbfe0bc9b874a61aa5a764689d668823be45052",
        "id": "QdwjV2ppO9d1",
        "colab_type": "code",
        "colab": {}
      },
      "source": [
        "test_tensor = torch.tensor(test_df.values, dtype=torch.float) / 255\n",
        "test_tensor = test_tensor.view(-1, 1, 28, 28).to(device)\n",
        "#test_tensor.to(device)"
      ],
      "execution_count": 0,
      "outputs": []
    },
    {
      "cell_type": "code",
      "metadata": {
        "trusted": true,
        "_uuid": "cf56f234315c05678db892ea658d8947b5c6a9df",
        "id": "d7LifLJYO9d4",
        "colab_type": "code",
        "colab": {}
      },
      "source": [
        "outputs = net(test_tensor).to(device)"
      ],
      "execution_count": 0,
      "outputs": []
    },
    {
      "cell_type": "code",
      "metadata": {
        "trusted": true,
        "_uuid": "964c4cbca08a7e5bcd163e88d2027cba04c6197e",
        "id": "Lq9egfGGO9d7",
        "colab_type": "code",
        "colab": {}
      },
      "source": [
        "_, predicted = torch.max(outputs, 1)\n",
        "#predicted.to('cpu')"
      ],
      "execution_count": 0,
      "outputs": []
    },
    {
      "cell_type": "code",
      "metadata": {
        "trusted": true,
        "_uuid": "f675320f66227b6c4ae814d8df0b713df97b0f6f",
        "id": "Qf9yuhZ1O9d-",
        "colab_type": "code",
        "colab": {}
      },
      "source": [
        "submit_df = pd.DataFrame({'ImageId': np.arange(1, 28001), 'Label': predicted.cpu().numpy()})"
      ],
      "execution_count": 0,
      "outputs": []
    },
    {
      "cell_type": "code",
      "metadata": {
        "trusted": true,
        "_uuid": "29b343e496d056590a107de379c52aaa87f4c25b",
        "id": "VL6PCvGaO9eC",
        "colab_type": "code",
        "colab": {}
      },
      "source": [
        "submit_df.to_csv('cnn.csv', index=False)"
      ],
      "execution_count": 0,
      "outputs": []
    },
    {
      "cell_type": "markdown",
      "metadata": {
        "_uuid": "12f2b94ec5d6657470f83a22eacb8985e1235c57",
        "id": "Z9WCKIc9O9eH",
        "colab_type": "text"
      },
      "source": [
        "### That's all, thank's for advice!"
      ]
    }
  ]
}